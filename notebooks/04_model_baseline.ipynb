{
 "cells": [
  {
   "cell_type": "code",
   "execution_count": 1,
   "id": "caf54439-1a0b-48fa-afc3-ca990e489049",
   "metadata": {},
   "outputs": [
    {
     "name": "stdout",
     "output_type": "stream",
     "text": [
      "MAE: $5,142.25\n",
      "RMSE: $8,424.17\n",
      "R² Score: 0.6594\n"
     ]
    }
   ],
   "source": [
    "# Import\n",
    "import pandas as pd\n",
    "import numpy as np\n",
    "from xgboost import XGBRegressor\n",
    "from sklearn.model_selection import train_test_split\n",
    "from sklearn.metrics import mean_absolute_error, mean_squared_error, r2_score\n",
    "\n",
    "# Load and preprocess\n",
    "df = pd.read_csv(\"vehicles.csv\")\n",
    "df = df[(df[\"price\"] > 100) & (df[\"price\"] < 100000)]\n",
    "df[\"car_age\"] = 2025 - df[\"year\"]\n",
    "df = df.drop(columns=[\"year\"], errors=\"ignore\")\n",
    "top_models = df[\"model\"].value_counts().nlargest(20).index\n",
    "df[\"model\"] = df[\"model\"].where(df[\"model\"].isin(top_models), other=\"other\")\n",
    "cat_cols = [\"manufacturer\", \"condition\", \"fuel\", \"title_status\", \"transmission\", \"drive\", \"type\", \"state\", \"model\"]\n",
    "df = pd.get_dummies(df, columns=cat_cols, drop_first=True)\n",
    "df = df.drop(columns=df.select_dtypes(include=\"object\").columns, errors=\"ignore\")\n",
    "df = df.fillna(0)\n",
    "df[\"mileage_per_year\"] = df[\"odometer\"] / df[\"car_age\"].replace(0, 1)\n",
    "df[\"is_old_car\"] = (df[\"car_age\"] > 10).astype(int)\n",
    "df[\"is_high_mileage\"] = (df[\"odometer\"] > 150000).astype(int)\n",
    "\n",
    "# Target and split\n",
    "y = df[\"price\"]\n",
    "X = df.drop(columns=[\"price\"])\n",
    "y_log = np.log1p(y)\n",
    "X_train, X_test, y_train_log, y_test_log = train_test_split(X, y_log, test_size=0.2, random_state=42)\n",
    "\n",
    "# Train and evaluate\n",
    "model = XGBRegressor(n_estimators=100, learning_rate=0.1, max_depth=6, random_state=42, n_jobs=-1)\n",
    "model.fit(X_train, y_train_log)\n",
    "y_pred_log = model.predict(X_test)\n",
    "y_pred = np.expm1(y_pred_log)\n",
    "y_test = np.expm1(y_test_log)\n",
    "\n",
    "mae = mean_absolute_error(y_test, y_pred)\n",
    "rmse = np.sqrt(mean_squared_error(y_test, y_pred))\n",
    "r2 = r2_score(y_test, y_pred)\n",
    "\n",
    "print(f\"MAE: ${mae:,.2f}\")\n",
    "print(f\"RMSE: ${rmse:,.2f}\")\n",
    "print(f\"R² Score: {r2:.4f}\")\n"
   ]
  }
 ],
 "metadata": {
  "kernelspec": {
   "display_name": "Python 3 (ipykernel)",
   "language": "python",
   "name": "python3"
  },
  "language_info": {
   "codemirror_mode": {
    "name": "ipython",
    "version": 3
   },
   "file_extension": ".py",
   "mimetype": "text/x-python",
   "name": "python",
   "nbconvert_exporter": "python",
   "pygments_lexer": "ipython3",
   "version": "3.12.7"
  }
 },
 "nbformat": 4,
 "nbformat_minor": 5
}
