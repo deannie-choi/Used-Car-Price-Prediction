{
 "cells": [
  {
   "cell_type": "code",
   "execution_count": 2,
   "id": "d17b6778-50dc-428e-a3a0-8b91839de8c3",
   "metadata": {},
   "outputs": [],
   "source": [
    "# Import\n",
    "import pandas as pd\n",
    "\n",
    "# Load data\n",
    "df = pd.read_csv(\"vehicles.csv\")\n",
    "df = df[(df[\"price\"] > 100) & (df[\"price\"] < 100000)]\n",
    "\n",
    "# Create car_age\n",
    "df[\"car_age\"] = 2025 - df[\"year\"]\n",
    "df = df.drop(columns=[\"year\"], errors=\"ignore\")\n",
    "\n",
    "# Simplify model\n",
    "top_models = df[\"model\"].value_counts().nlargest(20).index\n",
    "df[\"model\"] = df[\"model\"].where(df[\"model\"].isin(top_models), other=\"other\")\n",
    "\n",
    "# Encode categorical\n",
    "cat_cols = [\"manufacturer\", \"condition\", \"fuel\", \"title_status\", \"transmission\", \"drive\", \"type\", \"state\", \"model\"]\n",
    "df = pd.get_dummies(df, columns=cat_cols, drop_first=True)\n",
    "\n",
    "# Drop text columns\n",
    "df = df.drop(columns=[\n",
    "    \"url\", \"region\", \"region_url\", \"VIN\", \"description\", \"image_url\", \"posting_date\", \"paint_color\", \"cylinders\", \"size\"\n",
    "], errors=\"ignore\")\n",
    "df = df.drop(columns=df.select_dtypes(include=\"object\").columns, errors=\"ignore\")\n",
    "\n",
    "# Handle nulls\n",
    "df = df.fillna(0)\n",
    "\n",
    "# Derived features\n",
    "df[\"mileage_per_year\"] = df[\"odometer\"] / df[\"car_age\"].replace(0, 1)\n",
    "df[\"is_old_car\"] = (df[\"car_age\"] > 10).astype(int)\n",
    "df[\"is_high_mileage\"] = (df[\"odometer\"] > 150000).astype(int)\n"
   ]
  }
 ],
 "metadata": {
  "kernelspec": {
   "display_name": "Python 3 (ipykernel)",
   "language": "python",
   "name": "python3"
  },
  "language_info": {
   "codemirror_mode": {
    "name": "ipython",
    "version": 3
   },
   "file_extension": ".py",
   "mimetype": "text/x-python",
   "name": "python",
   "nbconvert_exporter": "python",
   "pygments_lexer": "ipython3",
   "version": "3.12.7"
  }
 },
 "nbformat": 4,
 "nbformat_minor": 5
}
