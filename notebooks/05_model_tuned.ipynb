{
 "cells": [
  {
   "cell_type": "code",
   "execution_count": 1,
   "id": "853003ed-4fd1-4b2e-8b8b-f8ed4992e748",
   "metadata": {},
   "outputs": [
    {
     "name": "stdout",
     "output_type": "stream",
     "text": [
      "Fitting 3 folds for each of 50 candidates, totalling 150 fits\n",
      "Best Params: {'colsample_bytree': 0.9043140194467589, 'learning_rate': 0.17838315927084888, 'max_depth': 9, 'n_estimators': 497, 'reg_alpha': 0.49379559636439074, 'reg_lambda': 1.5454656587639881, 'subsample': 0.7710164073434198}\n",
      "MAE: $3,504.86\n",
      "RMSE: $6,111.42\n",
      "R² Score: 0.8235\n"
     ]
    }
   ],
   "source": [
    "# Import\n",
    "import pandas as pd\n",
    "import numpy as np\n",
    "from xgboost import XGBRegressor\n",
    "from sklearn.model_selection import train_test_split, RandomizedSearchCV\n",
    "from sklearn.metrics import mean_absolute_error, mean_squared_error, r2_score\n",
    "from scipy.stats import uniform, randint\n",
    "import warnings\n",
    "warnings.filterwarnings(\"ignore\")\n",
    "\n",
    "# Load and preprocess\n",
    "df = pd.read_csv(\"vehicles.csv\")\n",
    "df = df[(df[\"price\"] >= 100) & (df[\"price\"] <= 100000)]\n",
    "df[\"car_age\"] = 2025 - df[\"year\"]\n",
    "df = df.drop(columns=[\"year\"], errors=\"ignore\")\n",
    "top_models = df[\"model\"].value_counts().nlargest(20).index\n",
    "df[\"model\"] = df[\"model\"].where(df[\"model\"].isin(top_models), other=\"other\")\n",
    "cat_cols = [\"manufacturer\", \"condition\", \"fuel\", \"title_status\", \"transmission\", \"drive\", \"type\", \"state\", \"model\"]\n",
    "df = pd.get_dummies(df, columns=cat_cols, drop_first=True)\n",
    "df = df.drop(columns=df.select_dtypes(include=\"object\").columns, errors=\"ignore\")\n",
    "df = df.fillna(0)\n",
    "df[\"mileage_per_year\"] = df[\"odometer\"] / df[\"car_age\"].replace(0, 1)\n",
    "df[\"is_old_car\"] = (df[\"car_age\"] > 10).astype(int)\n",
    "df[\"is_high_mileage\"] = (df[\"odometer\"] > 150000).astype(int)\n",
    "\n",
    "# Target and split\n",
    "y = df[\"price\"]\n",
    "X = df.drop(columns=[\"price\"])\n",
    "y_log = np.log1p(y)\n",
    "X_train, X_test, y_train_log, y_test_log = train_test_split(X, y_log, test_size=0.2, random_state=42)\n",
    "\n",
    "# Search space\n",
    "param_dist = {\n",
    "    \"n_estimators\": randint(100, 500),\n",
    "    \"learning_rate\": uniform(0.01, 0.3),\n",
    "    \"max_depth\": randint(3, 10),\n",
    "    \"subsample\": uniform(0.6, 0.4),\n",
    "    \"colsample_bytree\": uniform(0.6, 0.4),\n",
    "    \"reg_alpha\": uniform(0, 1),\n",
    "    \"reg_lambda\": uniform(0.5, 2)\n",
    "}\n",
    "\n",
    "# Randomized search\n",
    "xgb_model = XGBRegressor(random_state=42, n_jobs=-1)\n",
    "random_search = RandomizedSearchCV(\n",
    "    xgb_model,\n",
    "    param_distributions=param_dist,\n",
    "    n_iter=50,\n",
    "    scoring=\"neg_mean_squared_error\",\n",
    "    cv=3,\n",
    "    verbose=1,\n",
    "    random_state=42,\n",
    "    n_jobs=-1\n",
    ")\n",
    "random_search.fit(X_train, y_train_log)\n",
    "best_model = random_search.best_estimator_\n",
    "\n",
    "# Predict\n",
    "y_pred_log = best_model.predict(X_test)\n",
    "y_pred = np.expm1(y_pred_log)\n",
    "y_test = np.expm1(y_test_log)\n",
    "\n",
    "# Evaluate\n",
    "mae = mean_absolute_error(y_test, y_pred)\n",
    "rmse = np.sqrt(mean_squared_error(y_test, y_pred))\n",
    "r2 = r2_score(y_test, y_pred)\n",
    "\n",
    "print(\"Best Params:\", random_search.best_params_)\n",
    "print(f\"MAE: ${mae:,.2f}\")\n",
    "print(f\"RMSE: ${rmse:,.2f}\")\n",
    "print(f\"R² Score: {r2:.4f}\")\n"
   ]
  }
 ],
 "metadata": {
  "kernelspec": {
   "display_name": "Python 3 (ipykernel)",
   "language": "python",
   "name": "python3"
  },
  "language_info": {
   "codemirror_mode": {
    "name": "ipython",
    "version": 3
   },
   "file_extension": ".py",
   "mimetype": "text/x-python",
   "name": "python",
   "nbconvert_exporter": "python",
   "pygments_lexer": "ipython3",
   "version": "3.12.7"
  }
 },
 "nbformat": 4,
 "nbformat_minor": 5
}
