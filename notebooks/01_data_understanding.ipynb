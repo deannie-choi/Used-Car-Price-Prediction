{
 "cells": [
  {
   "cell_type": "code",
   "execution_count": 2,
   "id": "306ca624-c9b4-4e2d-9ae5-1d7d89750f09",
   "metadata": {},
   "outputs": [
    {
     "data": {
      "text/plain": [
       "count    4.268800e+05\n",
       "mean     7.519903e+04\n",
       "std      1.218228e+07\n",
       "min      0.000000e+00\n",
       "25%      5.900000e+03\n",
       "50%      1.395000e+04\n",
       "75%      2.648575e+04\n",
       "max      3.736929e+09\n",
       "Name: price, dtype: float64"
      ]
     },
     "execution_count": 2,
     "metadata": {},
     "output_type": "execute_result"
    }
   ],
   "source": [
    "# Import\n",
    "import pandas as pd\n",
    "\n",
    "# Load data\n",
    "df = pd.read_csv(\"vehicles.csv\")\n",
    "\n",
    "# Shape, types, nulls\n",
    "df.shape\n",
    "df.columns\n",
    "df.dtypes\n",
    "df.isnull().sum().sort_values(ascending=False)\n",
    "\n",
    "# Price stats\n",
    "df[\"price\"].describe()\n"
   ]
  }
 ],
 "metadata": {
  "kernelspec": {
   "display_name": "Python 3 (ipykernel)",
   "language": "python",
   "name": "python3"
  },
  "language_info": {
   "codemirror_mode": {
    "name": "ipython",
    "version": 3
   },
   "file_extension": ".py",
   "mimetype": "text/x-python",
   "name": "python",
   "nbconvert_exporter": "python",
   "pygments_lexer": "ipython3",
   "version": "3.12.7"
  }
 },
 "nbformat": 4,
 "nbformat_minor": 5
}
